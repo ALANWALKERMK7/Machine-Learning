{
  "nbformat": 4,
  "nbformat_minor": 0,
  "metadata": {
    "colab": {
      "provenance": [],
      "authorship_tag": "ABX9TyOmKU41EFjhmVLYeKiW4mqG",
      "include_colab_link": true
    },
    "kernelspec": {
      "name": "python3",
      "display_name": "Python 3"
    },
    "language_info": {
      "name": "python"
    }
  },
  "cells": [
    {
      "cell_type": "markdown",
      "metadata": {
        "id": "view-in-github",
        "colab_type": "text"
      },
      "source": [
        "<a href=\"https://colab.research.google.com/github/ALANWALKERMK7/ANN-reports-gitam/blob/main/Linkedlist.ipynb\" target=\"_parent\"><img src=\"https://colab.research.google.com/assets/colab-badge.svg\" alt=\"Open In Colab\"/></a>"
      ]
    },
    {
      "cell_type": "markdown",
      "source": [
        "Design a program to create a singly linked list for the following operations"
      ],
      "metadata": {
        "id": "Git3qs_6v-4m"
      }
    },
    {
      "cell_type": "markdown",
      "source": [
        "Insert a node at beginning, at ending and at a guven position"
      ],
      "metadata": {
        "id": "MxEvJboBvzhz"
      }
    },
    {
      "cell_type": "code",
      "execution_count": 9,
      "metadata": {
        "colab": {
          "base_uri": "https://localhost:8080/"
        },
        "id": "lwgUULS1vpkR",
        "outputId": "8779d5da-f759-45db-93c2-121112a6e522"
      },
      "outputs": [
        {
          "output_type": "stream",
          "name": "stdout",
          "text": [
            "List is Empty\n",
            "Created Single linked list is: \n",
            "1 7 8 6 4 "
          ]
        }
      ],
      "source": [
        "# Node class\n",
        "class Node:\n",
        "# Function to initialise the node object\n",
        "  def __init__(self,data):\n",
        "    self.data = data\n",
        "    self.next = None\n",
        "\n",
        "# Linked List class contains a Node object\n",
        "class LinkedList:\n",
        "# Function to initialize head\n",
        "  def __init__(self):\n",
        "    self.head = None\n",
        "  \n",
        "# Function to insert a new node at the beginning\n",
        "  def push(self,new_data):\n",
        "    new_node = Node(new_data)\n",
        "    new_node.next = self.head\n",
        "    self.head = new_node\n",
        "\n",
        "  def insertAfter(self,prev_node,new_data):\n",
        "    if prev_node is None:\n",
        "      print(\"The given previous node must in LinkedList.\")\n",
        "      return\n",
        "    new_node = Node(new_data)\n",
        "    new_node.next = prev_node.next\n",
        "    prev_node.next = new_node\n",
        "\n",
        "  def append(self,new_data):\n",
        "    new_node = Node(new_data)\n",
        "    if self.head is None:\n",
        "      self.head = new_node\n",
        "      return \n",
        "\n",
        "    last = self.head\n",
        "    while(last.next):\n",
        "      last = last.next\n",
        "\n",
        "    last.next = new_node\n",
        "\n",
        "  def printList(self):\n",
        "    if self.head==None:\n",
        "       print(\"List is Empty\")\n",
        "    temp = self.head\n",
        "    while(temp):\n",
        "      print(temp.data,end = \" \")\n",
        "      temp = temp.next\n",
        "\n",
        "if __name__=='__main__':\n",
        "  # Start with the empty list\n",
        "  llist = LinkedList()\n",
        "  # print('List is empty')\n",
        "  llist.printList()\n",
        "  # Insert 6. So linked list becomes 6->None\n",
        "  llist.append(6)\n",
        "  # Insert 7 at the beginning. So linked list becomes 7->6->None\n",
        "  llist.push(7);\n",
        "  # Insert 1 at the beginning. So linked list becomes 1->7->6->None\n",
        "  llist.push(1);\n",
        "  # Insert 4 at the end. So linked list becomes 1->7->6->4->None\n",
        "  llist.append(4)\n",
        "  # Insert 8, after 7. So linked list becomes 1 -> 7-> 8-> 6-> 4-> None\n",
        "  llist.insertAfter(llist.head.next, 8)\n",
        "  print('Created Single linked list is: ')\n",
        "  llist.printList()"
      ]
    },
    {
      "cell_type": "code",
      "source": [],
      "metadata": {
        "id": "92J8Y5D6xmsw"
      },
      "execution_count": null,
      "outputs": []
    }
  ]
}